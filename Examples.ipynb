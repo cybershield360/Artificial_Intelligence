{
  "nbformat": 4,
  "nbformat_minor": 0,
  "metadata": {
    "colab": {
      "provenance": []
    },
    "kernelspec": {
      "name": "python3",
      "display_name": "Python 3"
    },
    "language_info": {
      "name": "python"
    }
  },
  "cells": [
    {
      "cell_type": "markdown",
      "source": [
        "# Data Loading "
      ],
      "metadata": {
        "id": "a4wH05mfNPJH"
      }
    },
    {
      "cell_type": "code",
      "execution_count": null,
      "metadata": {
        "colab": {
          "base_uri": "https://localhost:8080/"
        },
        "id": "Z0055oMkLHYA",
        "outputId": "fd6ba08d-0468-4b0b-8dbc-d440808ecddc"
      },
      "outputs": [
        {
          "output_type": "stream",
          "name": "stdout",
          "text": [
            "Mounted at /content/drive\n"
          ]
        }
      ],
      "source": [
        "from google.colab import drive\n",
        "drive.mount('/content/drive')"
      ]
    },
    {
      "cell_type": "code",
      "source": [
        "!pip install Scikit-plot"
      ],
      "metadata": {
        "id": "v3Mqauj1LZrB"
      },
      "execution_count": null,
      "outputs": []
    },
    {
      "cell_type": "code",
      "source": [
        "!pip install mlxtend"
      ],
      "metadata": {
        "id": "Jr4XWpQvLtaf"
      },
      "execution_count": null,
      "outputs": []
    },
    {
      "cell_type": "code",
      "source": [
        "import numpy as np \n",
        "import os\n",
        "import pandas as pd\n",
        "# for graphs\n",
        "import matplotlib.pyplot as plt\n",
        "import seaborn as sns\n",
        "# provides various functions that work on iterators to produce complex iterators\n",
        "import itertools\n",
        "# to generate random numbers\n",
        "import random\n",
        "# for creating static, animated, and interactive visualizations\n",
        "import matplotlib.gridspec as gridspec \n",
        "from sklearn.preprocessing import LabelEncoder\n",
        "# To divide data in training and testing\n",
        "from sklearn.model_selection import train_test_split\n",
        "from sklearn.model_selection import cross_val_score\n",
        "from sklearn.metrics import mean_absolute_error\n",
        "from sklearn.metrics import accuracy_score\n",
        "from sklearn.metrics import confusion_matrix\n",
        "from sklearn import metrics \n",
        "\n",
        "from sklearn.preprocessing import StandardScaler\n",
        "\n",
        "from sklearn.ensemble import RandomForestClassifier\n",
        "from sklearn.neighbors import KNeighborsClassifier\n",
        "from sklearn.svm import SVC\n",
        "from sklearn.naive_bayes import GaussianNB\n",
        "from sklearn.tree import DecisionTreeClassifier \n",
        "\n",
        "from sklearn.metrics import precision_score\n",
        "from sklearn.metrics import recall_score\n",
        "from sklearn.metrics import f1_score\n",
        "from sklearn.metrics import classification_report\n",
        "import scikitplot.metrics as splt"
      ],
      "metadata": {
        "id": "2WN0myfWLbvR"
      },
      "execution_count": null,
      "outputs": []
    },
    {
      "cell_type": "code",
      "source": [
        "Dataset_PATH=\"/content/drive/MyDrive/Quiz/Sensor1_values_instant_1000.csv\"\n"
      ],
      "metadata": {
        "id": "9GF5-c7uLlLm"
      },
      "execution_count": null,
      "outputs": []
    },
    {
      "cell_type": "code",
      "source": [
        "df=pd.read_csv(Dataset_PATH)"
      ],
      "metadata": {
        "id": "tu512NaiNDPm"
      },
      "execution_count": null,
      "outputs": []
    },
    {
      "cell_type": "code",
      "source": [
        "df.head(20)"
      ],
      "metadata": {
        "colab": {
          "base_uri": "https://localhost:8080/",
          "height": 677
        },
        "id": "NXwGOdzQNEc_",
        "outputId": "1815ab7e-dad5-4165-9f12-70711ea5c704"
      },
      "execution_count": null,
      "outputs": [
        {
          "output_type": "execute_result",
          "data": {
            "text/plain": [
              "    epoch  InVehicle_Longitudinal_Speed  GPS_Speed  \\\n",
              "0       0                     11.375000  11.307097   \n",
              "1       1                     11.366708  11.255964   \n",
              "2       2                     11.362331  11.249115   \n",
              "3       3                     11.358665  11.263280   \n",
              "4       4                     11.356745  11.270361   \n",
              "5       5                     11.355560  11.255544   \n",
              "6       6                     11.352391  11.252807   \n",
              "7       7                     11.345548  11.243613   \n",
              "8       8                     11.338387  11.229733   \n",
              "9       9                     11.333985  11.224630   \n",
              "10     10                     11.330039  11.223721   \n",
              "11     11                     11.324162  11.234748   \n",
              "12     12                     11.316875  11.240278   \n",
              "13     13                     11.310060  11.238059   \n",
              "14     14                     11.302838  11.237968   \n",
              "15     15                     11.296066  11.217906   \n",
              "16     16                     11.290375  11.192159   \n",
              "17     17                     11.286221  11.192945   \n",
              "18     18                     25.797944  11.192408   \n",
              "19     19                     11.276129  11.190212   \n",
              "\n",
              "    InVehicle_Longitudinal_Accel    Label  \n",
              "0                      -0.103000   Normal  \n",
              "1                      -0.353946   Normal  \n",
              "2                      -0.090962   Normal  \n",
              "3                      -0.043470   Normal  \n",
              "4                      -0.037579   Normal  \n",
              "5                      -0.039736   Normal  \n",
              "6                      -0.074363   Normal  \n",
              "7                       4.448259   Normal  \n",
              "8                      -0.036495   Normal  \n",
              "9                      -0.054609   Normal  \n",
              "10                     -0.094058   Normal  \n",
              "11                     -0.080720   Normal  \n",
              "12                     -0.081499   Normal  \n",
              "13                     -0.071578   Normal  \n",
              "14                     -0.085313   Normal  \n",
              "15                     -0.011462   Normal  \n",
              "16                      0.419064   Normal  \n",
              "17                      0.038685   Normal  \n",
              "18                     -0.004835  Anomaly  \n",
              "19                      0.068226   Normal  "
            ],
            "text/html": [
              "\n",
              "  <div id=\"df-96112ed6-42dd-4815-8b55-b843b26fdf42\">\n",
              "    <div class=\"colab-df-container\">\n",
              "      <div>\n",
              "<style scoped>\n",
              "    .dataframe tbody tr th:only-of-type {\n",
              "        vertical-align: middle;\n",
              "    }\n",
              "\n",
              "    .dataframe tbody tr th {\n",
              "        vertical-align: top;\n",
              "    }\n",
              "\n",
              "    .dataframe thead th {\n",
              "        text-align: right;\n",
              "    }\n",
              "</style>\n",
              "<table border=\"1\" class=\"dataframe\">\n",
              "  <thead>\n",
              "    <tr style=\"text-align: right;\">\n",
              "      <th></th>\n",
              "      <th>epoch</th>\n",
              "      <th>InVehicle_Longitudinal_Speed</th>\n",
              "      <th>GPS_Speed</th>\n",
              "      <th>InVehicle_Longitudinal_Accel</th>\n",
              "      <th>Label</th>\n",
              "    </tr>\n",
              "  </thead>\n",
              "  <tbody>\n",
              "    <tr>\n",
              "      <th>0</th>\n",
              "      <td>0</td>\n",
              "      <td>11.375000</td>\n",
              "      <td>11.307097</td>\n",
              "      <td>-0.103000</td>\n",
              "      <td>Normal</td>\n",
              "    </tr>\n",
              "    <tr>\n",
              "      <th>1</th>\n",
              "      <td>1</td>\n",
              "      <td>11.366708</td>\n",
              "      <td>11.255964</td>\n",
              "      <td>-0.353946</td>\n",
              "      <td>Normal</td>\n",
              "    </tr>\n",
              "    <tr>\n",
              "      <th>2</th>\n",
              "      <td>2</td>\n",
              "      <td>11.362331</td>\n",
              "      <td>11.249115</td>\n",
              "      <td>-0.090962</td>\n",
              "      <td>Normal</td>\n",
              "    </tr>\n",
              "    <tr>\n",
              "      <th>3</th>\n",
              "      <td>3</td>\n",
              "      <td>11.358665</td>\n",
              "      <td>11.263280</td>\n",
              "      <td>-0.043470</td>\n",
              "      <td>Normal</td>\n",
              "    </tr>\n",
              "    <tr>\n",
              "      <th>4</th>\n",
              "      <td>4</td>\n",
              "      <td>11.356745</td>\n",
              "      <td>11.270361</td>\n",
              "      <td>-0.037579</td>\n",
              "      <td>Normal</td>\n",
              "    </tr>\n",
              "    <tr>\n",
              "      <th>5</th>\n",
              "      <td>5</td>\n",
              "      <td>11.355560</td>\n",
              "      <td>11.255544</td>\n",
              "      <td>-0.039736</td>\n",
              "      <td>Normal</td>\n",
              "    </tr>\n",
              "    <tr>\n",
              "      <th>6</th>\n",
              "      <td>6</td>\n",
              "      <td>11.352391</td>\n",
              "      <td>11.252807</td>\n",
              "      <td>-0.074363</td>\n",
              "      <td>Normal</td>\n",
              "    </tr>\n",
              "    <tr>\n",
              "      <th>7</th>\n",
              "      <td>7</td>\n",
              "      <td>11.345548</td>\n",
              "      <td>11.243613</td>\n",
              "      <td>4.448259</td>\n",
              "      <td>Normal</td>\n",
              "    </tr>\n",
              "    <tr>\n",
              "      <th>8</th>\n",
              "      <td>8</td>\n",
              "      <td>11.338387</td>\n",
              "      <td>11.229733</td>\n",
              "      <td>-0.036495</td>\n",
              "      <td>Normal</td>\n",
              "    </tr>\n",
              "    <tr>\n",
              "      <th>9</th>\n",
              "      <td>9</td>\n",
              "      <td>11.333985</td>\n",
              "      <td>11.224630</td>\n",
              "      <td>-0.054609</td>\n",
              "      <td>Normal</td>\n",
              "    </tr>\n",
              "    <tr>\n",
              "      <th>10</th>\n",
              "      <td>10</td>\n",
              "      <td>11.330039</td>\n",
              "      <td>11.223721</td>\n",
              "      <td>-0.094058</td>\n",
              "      <td>Normal</td>\n",
              "    </tr>\n",
              "    <tr>\n",
              "      <th>11</th>\n",
              "      <td>11</td>\n",
              "      <td>11.324162</td>\n",
              "      <td>11.234748</td>\n",
              "      <td>-0.080720</td>\n",
              "      <td>Normal</td>\n",
              "    </tr>\n",
              "    <tr>\n",
              "      <th>12</th>\n",
              "      <td>12</td>\n",
              "      <td>11.316875</td>\n",
              "      <td>11.240278</td>\n",
              "      <td>-0.081499</td>\n",
              "      <td>Normal</td>\n",
              "    </tr>\n",
              "    <tr>\n",
              "      <th>13</th>\n",
              "      <td>13</td>\n",
              "      <td>11.310060</td>\n",
              "      <td>11.238059</td>\n",
              "      <td>-0.071578</td>\n",
              "      <td>Normal</td>\n",
              "    </tr>\n",
              "    <tr>\n",
              "      <th>14</th>\n",
              "      <td>14</td>\n",
              "      <td>11.302838</td>\n",
              "      <td>11.237968</td>\n",
              "      <td>-0.085313</td>\n",
              "      <td>Normal</td>\n",
              "    </tr>\n",
              "    <tr>\n",
              "      <th>15</th>\n",
              "      <td>15</td>\n",
              "      <td>11.296066</td>\n",
              "      <td>11.217906</td>\n",
              "      <td>-0.011462</td>\n",
              "      <td>Normal</td>\n",
              "    </tr>\n",
              "    <tr>\n",
              "      <th>16</th>\n",
              "      <td>16</td>\n",
              "      <td>11.290375</td>\n",
              "      <td>11.192159</td>\n",
              "      <td>0.419064</td>\n",
              "      <td>Normal</td>\n",
              "    </tr>\n",
              "    <tr>\n",
              "      <th>17</th>\n",
              "      <td>17</td>\n",
              "      <td>11.286221</td>\n",
              "      <td>11.192945</td>\n",
              "      <td>0.038685</td>\n",
              "      <td>Normal</td>\n",
              "    </tr>\n",
              "    <tr>\n",
              "      <th>18</th>\n",
              "      <td>18</td>\n",
              "      <td>25.797944</td>\n",
              "      <td>11.192408</td>\n",
              "      <td>-0.004835</td>\n",
              "      <td>Anomaly</td>\n",
              "    </tr>\n",
              "    <tr>\n",
              "      <th>19</th>\n",
              "      <td>19</td>\n",
              "      <td>11.276129</td>\n",
              "      <td>11.190212</td>\n",
              "      <td>0.068226</td>\n",
              "      <td>Normal</td>\n",
              "    </tr>\n",
              "  </tbody>\n",
              "</table>\n",
              "</div>\n",
              "      <button class=\"colab-df-convert\" onclick=\"convertToInteractive('df-96112ed6-42dd-4815-8b55-b843b26fdf42')\"\n",
              "              title=\"Convert this dataframe to an interactive table.\"\n",
              "              style=\"display:none;\">\n",
              "        \n",
              "  <svg xmlns=\"http://www.w3.org/2000/svg\" height=\"24px\"viewBox=\"0 0 24 24\"\n",
              "       width=\"24px\">\n",
              "    <path d=\"M0 0h24v24H0V0z\" fill=\"none\"/>\n",
              "    <path d=\"M18.56 5.44l.94 2.06.94-2.06 2.06-.94-2.06-.94-.94-2.06-.94 2.06-2.06.94zm-11 1L8.5 8.5l.94-2.06 2.06-.94-2.06-.94L8.5 2.5l-.94 2.06-2.06.94zm10 10l.94 2.06.94-2.06 2.06-.94-2.06-.94-.94-2.06-.94 2.06-2.06.94z\"/><path d=\"M17.41 7.96l-1.37-1.37c-.4-.4-.92-.59-1.43-.59-.52 0-1.04.2-1.43.59L10.3 9.45l-7.72 7.72c-.78.78-.78 2.05 0 2.83L4 21.41c.39.39.9.59 1.41.59.51 0 1.02-.2 1.41-.59l7.78-7.78 2.81-2.81c.8-.78.8-2.07 0-2.86zM5.41 20L4 18.59l7.72-7.72 1.47 1.35L5.41 20z\"/>\n",
              "  </svg>\n",
              "      </button>\n",
              "      \n",
              "  <style>\n",
              "    .colab-df-container {\n",
              "      display:flex;\n",
              "      flex-wrap:wrap;\n",
              "      gap: 12px;\n",
              "    }\n",
              "\n",
              "    .colab-df-convert {\n",
              "      background-color: #E8F0FE;\n",
              "      border: none;\n",
              "      border-radius: 50%;\n",
              "      cursor: pointer;\n",
              "      display: none;\n",
              "      fill: #1967D2;\n",
              "      height: 32px;\n",
              "      padding: 0 0 0 0;\n",
              "      width: 32px;\n",
              "    }\n",
              "\n",
              "    .colab-df-convert:hover {\n",
              "      background-color: #E2EBFA;\n",
              "      box-shadow: 0px 1px 2px rgba(60, 64, 67, 0.3), 0px 1px 3px 1px rgba(60, 64, 67, 0.15);\n",
              "      fill: #174EA6;\n",
              "    }\n",
              "\n",
              "    [theme=dark] .colab-df-convert {\n",
              "      background-color: #3B4455;\n",
              "      fill: #D2E3FC;\n",
              "    }\n",
              "\n",
              "    [theme=dark] .colab-df-convert:hover {\n",
              "      background-color: #434B5C;\n",
              "      box-shadow: 0px 1px 3px 1px rgba(0, 0, 0, 0.15);\n",
              "      filter: drop-shadow(0px 1px 2px rgba(0, 0, 0, 0.3));\n",
              "      fill: #FFFFFF;\n",
              "    }\n",
              "  </style>\n",
              "\n",
              "      <script>\n",
              "        const buttonEl =\n",
              "          document.querySelector('#df-96112ed6-42dd-4815-8b55-b843b26fdf42 button.colab-df-convert');\n",
              "        buttonEl.style.display =\n",
              "          google.colab.kernel.accessAllowed ? 'block' : 'none';\n",
              "\n",
              "        async function convertToInteractive(key) {\n",
              "          const element = document.querySelector('#df-96112ed6-42dd-4815-8b55-b843b26fdf42');\n",
              "          const dataTable =\n",
              "            await google.colab.kernel.invokeFunction('convertToInteractive',\n",
              "                                                     [key], {});\n",
              "          if (!dataTable) return;\n",
              "\n",
              "          const docLinkHtml = 'Like what you see? Visit the ' +\n",
              "            '<a target=\"_blank\" href=https://colab.research.google.com/notebooks/data_table.ipynb>data table notebook</a>'\n",
              "            + ' to learn more about interactive tables.';\n",
              "          element.innerHTML = '';\n",
              "          dataTable['output_type'] = 'display_data';\n",
              "          await google.colab.output.renderOutput(dataTable, element);\n",
              "          const docLink = document.createElement('div');\n",
              "          docLink.innerHTML = docLinkHtml;\n",
              "          element.appendChild(docLink);\n",
              "        }\n",
              "      </script>\n",
              "    </div>\n",
              "  </div>\n",
              "  "
            ]
          },
          "metadata": {},
          "execution_count": 8
        }
      ]
    },
    {
      "cell_type": "code",
      "source": [
        "# Get the number of rows in the dataframe\n",
        "n_rows = df.shape[0]\n",
        "\n",
        "# Create a random index array of the same length as the number of rows\n",
        "rand_index = np.random.permutation(n_rows)\n",
        "\n",
        "# Use the random index array to reorder the dataframe\n",
        "df = df.iloc[rand_index]"
      ],
      "metadata": {
        "id": "cFqWpe9BPQWL"
      },
      "execution_count": null,
      "outputs": []
    },
    {
      "cell_type": "code",
      "source": [
        "# Visualize the distribution of each feature using a histogram\n",
        "fig, axs = plt.subplots(nrows=2, ncols=2, figsize=(10, 10))\n",
        "axs = axs.ravel()\n",
        "\n",
        "for i, col in enumerate(df.columns[:-1]):\n",
        "    axs[i].hist(df[col])\n",
        "    axs[i].set_title(col)"
      ],
      "metadata": {
        "colab": {
          "base_uri": "https://localhost:8080/",
          "height": 606
        },
        "id": "vCwGmbxiUyRX",
        "outputId": "d5a46aa5-6f78-4daa-dbfc-1fd8abc7a346"
      },
      "execution_count": null,
      "outputs": [
        {
          "output_type": "display_data",
          "data": {
            "text/plain": [
              "<Figure size 720x720 with 4 Axes>"
            ],
            "image/png": "[encoded data removed]"
          },
          "metadata": {}
        }
      ]
    },
    {
      "cell_type": "code",
      "source": [
        "# Visualize the correlation between features using a heatmap\n",
        "corr = df.corr()\n",
        "plt.figure(figsize=(10, 10))\n",
        "plt.title('Correlation between features')\n",
        "plt.imshow(corr, cmap='coolwarm')\n",
        "plt.xticks(range(len(corr.columns)), corr.columns, rotation=90)\n",
        "plt.yticks(range(len(corr.columns)), corr.columns)\n",
        "plt.colorbar()\n",
        "plt.show()"
      ],
      "metadata": {
        "colab": {
          "base_uri": "https://localhost:8080/",
          "height": 672
        },
        "id": "MlMTWf1CU67c",
        "outputId": "8402eb5d-c2ad-44bf-9848-ddfc7510ab75"
      },
      "execution_count": null,
      "outputs": [
        {
          "output_type": "display_data",
          "data": {
            "text/plain": [
              "<Figure size 720x720 with 2 Axes>"
            ],
            "image/png": "[encoded data removed]"
          },
          "metadata": {}
        }
      ]
    },
    {
      "cell_type": "code",
      "source": [
        "# Count the number of null values in each column\n",
        "null_counts = df.isnull().sum()\n",
        "\n",
        "# Print the null value counts\n",
        "print(null_counts)"
      ],
      "metadata": {
        "colab": {
          "base_uri": "https://localhost:8080/"
        },
        "id": "l_8wh5T1QUyb",
        "outputId": "f598caed-8444-4ded-e8ad-773ae3e01951"
      },
      "execution_count": null,
      "outputs": [
        {
          "output_type": "stream",
          "name": "stdout",
          "text": [
            "epoch                           0\n",
            "InVehicle_Longitudinal_Speed    0\n",
            "GPS_Speed                       0\n",
            "InVehicle_Longitudinal_Accel    0\n",
            "Label                           0\n",
            "dtype: int64\n"
          ]
        }
      ]
    },
    {
      "cell_type": "markdown",
      "source": [
        "Print the summary of data frame."
      ],
      "metadata": {
        "id": "c3gSmjHtQlen"
      }
    },
    {
      "cell_type": "code",
      "source": [
        "print(df.describe())"
      ],
      "metadata": {
        "colab": {
          "base_uri": "https://localhost:8080/"
        },
        "id": "OszY_1dXQj19",
        "outputId": "280c0dc4-ed0b-4144-f43c-9f7cb294a712"
      },
      "execution_count": null,
      "outputs": [
        {
          "output_type": "stream",
          "name": "stdout",
          "text": [
            "              epoch  InVehicle_Longitudinal_Speed     GPS_Speed  \\\n",
            "count  29800.000000                  29800.000000  29800.000000   \n",
            "mean   14899.500000                     14.600262     14.698049   \n",
            "std     8602.663347                      7.543176      7.453358   \n",
            "min        0.000000                    -33.098820    -15.248699   \n",
            "25%     7449.750000                      9.488650      9.931482   \n",
            "50%    14899.500000                     16.744594     16.775469   \n",
            "75%    22349.250000                     19.439555     19.377965   \n",
            "max    29799.000000                     50.601087     48.854057   \n",
            "\n",
            "       InVehicle_Longitudinal_Accel  \n",
            "count                  29800.000000  \n",
            "mean                      -0.016167  \n",
            "std                        1.418155  \n",
            "min                      -29.651329  \n",
            "25%                       -0.222600  \n",
            "50%                       -0.006000  \n",
            "75%                        0.242327  \n",
            "max                       31.311922  \n"
          ]
        }
      ]
    },
    {
      "cell_type": "code",
      "source": [
        "from sklearn.feature_selection import SelectKBest, chi2\n",
        "from sklearn.preprocessing import MinMaxScaler"
      ],
      "metadata": {
        "id": "pF3KqQeAQrAw"
      },
      "execution_count": null,
      "outputs": []
    },
    {
      "cell_type": "code",
      "source": [
        "\n",
        "# Separate the features (X) and target variable (y)\n",
        "X = df.drop('Label', axis=1)\n",
        "y = df['Label']\n",
        "\n",
        "\n",
        "# Scale the features to a range between 0 and 1\n",
        "scaler = MinMaxScaler()\n",
        "X_scaled = scaler.fit_transform(X)\n",
        "\n",
        "# Apply feature selection to the scaled features\n",
        "selector = SelectKBest(chi2, k=3)\n",
        "X_new = selector.fit_transform(X_scaled, y)"
      ],
      "metadata": {
        "id": "APvuG-JXRE6y"
      },
      "execution_count": null,
      "outputs": []
    },
    {
      "cell_type": "code",
      "source": [
        "# Split the dataset into training and testing sets\n",
        "X_train, X_test, y_train, y_test = train_test_split(X, y, test_size=0.2, random_state=42)"
      ],
      "metadata": {
        "id": "Aid-N9G4S8Dy"
      },
      "execution_count": null,
      "outputs": []
    },
    {
      "cell_type": "code",
      "source": [
        "# Train the Random Forest classifier\n",
        "rf_classifier = RandomForestClassifier(n_estimators=100, random_state=42)\n",
        "rf_classifier.fit(X_train, y_train)\n",
        "\n",
        "# Make predictions on the test set\n",
        "y_pred = rf_classifier.predict(X_test)\n",
        "\n",
        "# Print the classification report\n",
        "print(classification_report(y_test, y_pred))\n",
        "\n",
        "# Print the confusion matrix\n",
        "print(confusion_matrix(y_test, y_pred))"
      ],
      "metadata": {
        "colab": {
          "base_uri": "https://localhost:8080/"
        },
        "id": "i4iXXKPKTJT_",
        "outputId": "9135b81c-6a17-4c23-8116-d154915abfd5"
      },
      "execution_count": null,
      "outputs": [
        {
          "output_type": "stream",
          "name": "stdout",
          "text": [
            "              precision    recall  f1-score   support\n",
            "\n",
            "     Anomaly       0.96      0.56      0.71       114\n",
            "      Normal       0.99      1.00      1.00      5846\n",
            "\n",
            "    accuracy                           0.99      5960\n",
            "   macro avg       0.97      0.78      0.85      5960\n",
            "weighted avg       0.99      0.99      0.99      5960\n",
            "\n",
            "[[  64   50]\n",
            " [   3 5843]]\n"
          ]
        }
      ]
    },
    {
      "cell_type": "code",
      "source": [
        "from yellowbrick.classifier import ClassificationReport\n"
      ],
      "metadata": {
        "id": "JAHs4sddUGSi"
      },
      "execution_count": null,
      "outputs": []
    },
    {
      "cell_type": "code",
      "source": [
        "# Print the classification report\n",
        "print(classification_report(y_test, y_pred))\n",
        "\n",
        "# Plot the classification report\n",
        "report = ClassificationReport(rf_classifier, classes=['Normal', 'Anomaly'])\n",
        "report.score(X_test, y_test)\n",
        "report.show()"
      ],
      "metadata": {
        "colab": {
          "base_uri": "https://localhost:8080/",
          "height": 768
        },
        "id": "5H-o0ueLUHQy",
        "outputId": "0c45eab8-6a5d-47f0-a6e8-42709af41e97"
      },
      "execution_count": null,
      "outputs": [
        {
          "output_type": "stream",
          "name": "stdout",
          "text": [
            "              precision    recall  f1-score   support\n",
            "\n",
            "     Anomaly       0.96      0.56      0.71       114\n",
            "      Normal       0.99      1.00      1.00      5846\n",
            "\n",
            "    accuracy                           0.99      5960\n",
            "   macro avg       0.97      0.78      0.85      5960\n",
            "weighted avg       0.99      0.99      0.99      5960\n",
            "\n"
          ]
        },
        {
          "output_type": "stream",
          "name": "stderr",
          "text": [
            "/usr/local/lib/python3.9/dist-packages/yellowbrick/classifier/base.py:232: YellowbrickWarning: could not determine class_counts_ from previously fitted classifier\n",
            "  warnings.warn(\n",
            "/usr/local/lib/python3.9/dist-packages/numpy/lib/arraysetops.py:604: FutureWarning: elementwise comparison failed; returning scalar instead, but in the future will perform elementwise comparison\n",
            "  mask &= (ar1 != a)\n",
            "/usr/local/lib/python3.9/dist-packages/sklearn/metrics/_classification.py:1344: UndefinedMetricWarning: Precision and F-score are ill-defined and being set to 0.0 in labels with no predicted samples. Use `zero_division` parameter to control this behavior.\n",
            "  _warn_prf(average, modifier, msg_start, len(result))\n",
            "/usr/local/lib/python3.9/dist-packages/sklearn/metrics/_classification.py:1344: UndefinedMetricWarning: Recall and F-score are ill-defined and being set to 0.0 in labels with no true samples. Use `zero_division` parameter to control this behavior.\n",
            "  _warn_prf(average, modifier, msg_start, len(result))\n",
            "/usr/local/lib/python3.9/dist-packages/yellowbrick/classifier/classification_report.py:204: RuntimeWarning: invalid value encountered in true_divide\n",
            "  scores[-1] = scores[-1] / scores[-1].sum()\n"
          ]
        },
        {
          "output_type": "display_data",
          "data": {
            "text/plain": [
              "<Figure size 576x396 with 2 Axes>"
            ],
            "image/png": "[encoded data removed]"
          },
          "metadata": {}
        },
        {
          "output_type": "execute_result",
          "data": {
            "text/plain": [
              "<Axes: title={'center': 'RandomForestClassifier Classification Report'}>"
            ]
          },
          "metadata": {},
          "execution_count": 24
        }
      ]
    },
    {
      "cell_type": "code",
      "source": [
        "# Compute confusion matrix\n",
        "cm = confusion_matrix(y_test, y_pred)\n",
        "\n",
        "# Define class labels and color map\n",
        "classes = ['Class 0', 'Class 1']\n",
        "cmap = plt.cm.Blues\n",
        "\n",
        "# Plot confusion matrix\n",
        "plt.imshow(cm, interpolation='nearest', cmap=cmap)\n",
        "plt.title('Confusion Matrix')\n",
        "plt.colorbar()\n",
        "tick_marks = np.arange(len(classes))\n",
        "plt.xticks(tick_marks, classes, rotation=45)\n",
        "plt.yticks(tick_marks, classes)\n",
        "\n",
        "# Add text annotations to each cell\n",
        "thresh = cm.max() / 2.\n",
        "for i, j in itertools.product(range(cm.shape[0]), range(cm.shape[1])):\n",
        "    plt.text(j, i, format(cm[i, j], 'd'),\n",
        "             horizontalalignment=\"center\",\n",
        "             color=\"white\" if cm[i, j] > thresh else \"black\")\n",
        "\n",
        "plt.tight_layout()\n",
        "plt.ylabel('True label')\n",
        "plt.xlabel('Predicted label')\n",
        "plt.show()"
      ],
      "metadata": {
        "colab": {
          "base_uri": "https://localhost:8080/",
          "height": 415
        },
        "id": "143zliiUWd8n",
        "outputId": "2d6f379b-eb33-42e7-d588-d53dc3110899"
      },
      "execution_count": null,
      "outputs": [
        {
          "output_type": "display_data",
          "data": {
            "text/plain": [
              "<Figure size 576x396 with 2 Axes>"
            ],
            "image/png": "[encoded data removed]"
          },
          "metadata": {}
        }
      ]
    },
    {
      "cell_type": "markdown",
      "source": [
        "# Impelmenting Ensemble "
      ],
      "metadata": {
        "id": "hGROGTt3XTYM"
      }
    },
    {
      "cell_type": "code",
      "source": [
        "from sklearn.ensemble import AdaBoostClassifier\n",
        "from sklearn.metrics import classification_report, confusion_matrix\n",
        "from sklearn.model_selection import train_test_split\n"
      ],
      "metadata": {
        "id": "juKVwmchXgxM"
      },
      "execution_count": null,
      "outputs": []
    },
    {
      "cell_type": "code",
      "source": [
        "# Create an AdaBoost classifier\n",
        "ada_clf = AdaBoostClassifier(n_estimators=100)\n",
        "\n",
        "# Fit the classifier to the training data\n",
        "ada_clf.fit(X_train, y_train)\n",
        "\n",
        "# Make predictions on the testing data\n",
        "y_pred = ada_clf.predict(X_test)\n",
        "\n",
        "# Print the classification report\n",
        "print(classification_report(y_test, y_pred))"
      ],
      "metadata": {
        "colab": {
          "base_uri": "https://localhost:8080/"
        },
        "id": "swAgjyQQXYj8",
        "outputId": "c7d25b90-40e3-493c-9e4e-a0f1e54bc47a"
      },
      "execution_count": null,
      "outputs": [
        {
          "output_type": "stream",
          "name": "stdout",
          "text": [
            "              precision    recall  f1-score   support\n",
            "\n",
            "     Anomaly       0.91      0.18      0.31       114\n",
            "      Normal       0.98      1.00      0.99      5846\n",
            "\n",
            "    accuracy                           0.98      5960\n",
            "   macro avg       0.95      0.59      0.65      5960\n",
            "weighted avg       0.98      0.98      0.98      5960\n",
            "\n"
          ]
        }
      ]
    },
    {
      "cell_type": "code",
      "source": [
        "# Print the confusion matrix\n",
        "print(confusion_matrix(y_test, y_pred))"
      ],
      "metadata": {
        "colab": {
          "base_uri": "https://localhost:8080/"
        },
        "id": "f2AR83kbX04R",
        "outputId": "883d67ef-94a0-4b0a-8eab-3c9aa545024f"
      },
      "execution_count": null,
      "outputs": [
        {
          "output_type": "stream",
          "name": "stdout",
          "text": [
            "[[  21   93]\n",
            " [   2 5844]]\n"
          ]
        }
      ]
    },
    {
      "cell_type": "code",
      "source": [
        "# Plot the confusion matrix\n",
        "fig, ax = plt.subplots()\n",
        "cm = confusion_matrix(y_test, y_pred)\n",
        "sns.heatmap(cm, annot=True, fmt='d', cmap='Blues', ax=ax)\n",
        "\n",
        "# Set labels, title, and ticks\n",
        "ax.set_xlabel('Predicted labels')\n",
        "ax.set_ylabel('True labels')\n",
        "ax.set_title('Confusion Matrix')\n",
        "ax.xaxis.set_ticklabels(['Normal', 'Anomaly'])\n",
        "ax.yaxis.set_ticklabels(['Normal', 'Anomaly'])\n",
        "plt.show()\n"
      ],
      "metadata": {
        "colab": {
          "base_uri": "https://localhost:8080/",
          "height": 376
        },
        "id": "1vY3d1FOX46x",
        "outputId": "4273eddd-e8bd-4d52-951e-8333724ff081"
      },
      "execution_count": null,
      "outputs": [
        {
          "output_type": "display_data",
          "data": {
            "text/plain": [
              "<Figure size 576x396 with 2 Axes>"
            ],
            "image/png": "[encoded data removed]"
          },
          "metadata": {}
        }
      ]
    }
  ]
}