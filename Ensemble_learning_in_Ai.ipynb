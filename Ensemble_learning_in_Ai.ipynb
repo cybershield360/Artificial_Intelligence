{
  "nbformat": 4,
  "nbformat_minor": 0,
  "metadata": {
    "colab": {
      "provenance": []
    },
    "kernelspec": {
      "name": "python3",
      "display_name": "Python 3"
    },
    "language_info": {
      "name": "python"
    }
  },
  "cells": [
    {
      "cell_type": "code",
      "execution_count": null,
      "metadata": {
        "id": "DHsTkdqtBSCc",
        "colab": {
          "base_uri": "https://localhost:8080/"
        },
        "outputId": "6bd0cb7b-0af2-4d3a-e194-9f092b75d6bf"
      },
      "outputs": [
        {
          "output_type": "stream",
          "name": "stdout",
          "text": [
            "Mounted at /content/drive\n"
          ]
        }
      ],
      "source": [
        "from google.colab import drive\n",
        "drive.mount('/content/drive')"
      ]
    },
    {
      "cell_type": "code",
      "source": [
        "# installing modules/libraries\n",
        "!pip install mlxtend\n",
        "!pip install scikit-plot"
      ],
      "metadata": {
        "id": "DoEgxTH7BqLo"
      },
      "execution_count": null,
      "outputs": []
    },
    {
      "cell_type": "code",
      "source": [
        "# importing important modules/libraries\n",
        "import pandas as pd\n",
        "import numpy as np\n",
        "import matplotlib.pyplot as plt\n",
        "import scikitplot.metrics as splt\n",
        "\n",
        "from sklearn.model_selection import train_test_split\n",
        "from sklearn.tree import DecisionTreeClassifier, plot_tree\n",
        "from sklearn.metrics import accuracy_score\n",
        "from sklearn.metrics import precision_score\n",
        "from sklearn.metrics import recall_score\n",
        "from sklearn.metrics import f1_score\n",
        "from sklearn.ensemble import BaggingClassifier\n",
        "from sklearn.ensemble import StackingClassifier\n",
        "from sklearn.linear_model import LogisticRegression\n",
        "from sklearn.neighbors import KNeighborsClassifier\n"
      ],
      "metadata": {
        "id": "iGGrlLXtDYPu"
      },
      "execution_count": null,
      "outputs": []
    },
    {
      "cell_type": "code",
      "source": [
        "# loading and reading dataset\n",
        "Dataset=\"/content/drive/Youdataset\"\n",
        "df=pd.read_csv(Dataset)"
      ],
      "metadata": {
        "id": "wjWGtdcEDaL5"
      },
      "execution_count": null,
      "outputs": []
    },
    {
      "cell_type": "code",
      "source": [
        "# displaying first 5 rows of original dataframe\n",
        "df.head(5)"
      ],
      "metadata": {
        "id": "lUp8iWnsFQO1"
      },
      "execution_count": null,
      "outputs": []
    },
    {
      "cell_type": "markdown",
      "source": [
        "# **Randomization**"
      ],
      "metadata": {
        "id": "GrDuF1YjFURM"
      }
    },
    {
      "cell_type": "code",
      "source": [
        "random_df=df.sample(frac=1)\n",
        "# \"sample\" function will randomly samples the specified number of rows.\n",
        "# frac=1 means all rows or 100% of rows."
      ],
      "metadata": {
        "id": "f-p7Dyy9FU0Y"
      },
      "execution_count": null,
      "outputs": []
    },
    {
      "cell_type": "code",
      "source": [
        "# reseting the index of dataframe that has been previously shuffled.\n",
        "random_df.reset_index(drop=True, inplace=True)\n",
        "# \"reset_index\" funcion will resets the index of the dataframe to a sequential numeric index.\n",
        "# \"drop=True\" will drop all the old index.\n",
        "# \"inplace=True\" will make inchanges in the current dataframe instead of returning new dataframce."
      ],
      "metadata": {
        "id": "3ccL8Hr6FXhS"
      },
      "execution_count": null,
      "outputs": []
    },
    {
      "cell_type": "code",
      "source": [
        "# displaying first 5 rows of randomizied dataframe.\n",
        "random_df.head(5)"
      ],
      "metadata": {
        "id": "p0dYYiJYFZMb"
      },
      "execution_count": null,
      "outputs": []
    },
    {
      "cell_type": "code",
      "source": [
        "random_df.isna().sum()"
      ],
      "metadata": {
        "id": "nMRQVCKRNCiH"
      },
      "execution_count": null,
      "outputs": []
    },
    {
      "cell_type": "code",
      "source": [
        "random_df['srv_count'].describe()"
      ],
      "metadata": {
        "id": "xYFR_cyYNXTq"
      },
      "execution_count": null,
      "outputs": []
    },
    {
      "cell_type": "code",
      "source": [
        "random_df.boxplot(column=['srv_count'])"
      ],
      "metadata": {
        "id": "dG2gXm6mNa2T"
      },
      "execution_count": null,
      "outputs": []
    },
    {
      "cell_type": "markdown",
      "source": [
        "# **Missing data imputation**"
      ],
      "metadata": {
        "id": "8Gj3sLAJNRFi"
      }
    },
    {
      "cell_type": "code",
      "source": [
        "random_df['srv_count'] = random_df['srv_count'].fillna(random_df['srv_count'].median())\n",
        "random_df['srv_count'].isna().sum()"
      ],
      "metadata": {
        "id": "QqM2gbDSNP8F"
      },
      "execution_count": null,
      "outputs": []
    },
    {
      "cell_type": "markdown",
      "source": [
        "# **Data Encoding**"
      ],
      "metadata": {
        "id": "nr8EtZ1oNmss"
      }
    },
    {
      "cell_type": "code",
      "source": [
        "encoding = pd.get_dummies(random_df[['class']])\n",
        "encoding"
      ],
      "metadata": {
        "id": "6efQpP68NpY0"
      },
      "execution_count": null,
      "outputs": []
    },
    {
      "cell_type": "code",
      "source": [
        "encoded_df=pd.concat([random_df,encoding],axis=1)"
      ],
      "metadata": {
        "id": "ijxwy63RNt2C"
      },
      "execution_count": null,
      "outputs": []
    },
    {
      "cell_type": "code",
      "source": [
        "encoded_df.drop(columns=['class','class_normal'],inplace=True)\n",
        "encoded_df\n"
      ],
      "metadata": {
        "id": "tNMEs9DDNvfg"
      },
      "execution_count": null,
      "outputs": []
    },
    {
      "cell_type": "markdown",
      "source": [
        "# **Spliting randomized dataframe into test and train**"
      ],
      "metadata": {
        "id": "zFqW-1xtFuld"
      }
    },
    {
      "cell_type": "code",
      "source": [
        "X = encoded_df.iloc[:,:-1] # assigning all rows and all columns to 'X' except last column and its rows.\n",
        "y = encoded_df.iloc[:,-1]  # assigning last/target column and all its rows to 'y'"
      ],
      "metadata": {
        "id": "hoW6JWirFvTt"
      },
      "execution_count": null,
      "outputs": []
    },
    {
      "cell_type": "code",
      "source": [
        "# spliting data into X_train, X_test, y_train and y_test\n",
        "X_train, X_test, y_train, y_test = train_test_split(X, y, test_size=0.20, random_state=43)"
      ],
      "metadata": {
        "id": "2A4A1IaTF1Xp"
      },
      "execution_count": null,
      "outputs": []
    },
    {
      "cell_type": "markdown",
      "source": [
        "# **Providing data to Models**"
      ],
      "metadata": {
        "id": "M-LzvGZ_F3xg"
      }
    },
    {
      "cell_type": "code",
      "source": [
        "# Decision Tree\n",
        "clf = DecisionTreeClassifier()\n",
        "clf = clf.fit(X_train,y_train)\n",
        "dt_pred = clf.predict(X_test)\n",
        "# print(\"Accuracy:\",metrics.accuracy_score(y_test, dt_pred))\n",
        "acc1 = accuracy_score(y_test ,dt_pred)\n",
        "pre = precision_score(y_test ,dt_pred,average='weighted',labels=np.unique(dt_pred))\n",
        "rec = recall_score(y_test ,dt_pred,average='weighted')\n",
        "f1 = f1_score(y_test ,dt_pred,average='weighted')\n",
        "print('ACCURACY : ',acc1)\n",
        "print('PRECISON : ',pre)\n",
        "print('RECALL : ',rec)\n",
        "print('F1_SCORE : ',f1)"
      ],
      "metadata": {
        "id": "aNu1mrusF4_H"
      },
      "execution_count": null,
      "outputs": []
    },
    {
      "cell_type": "code",
      "source": [
        "splt.plot_confusion_matrix(y_test, dt_pred)"
      ],
      "metadata": {
        "id": "cfR1PPRTN81q"
      },
      "execution_count": null,
      "outputs": []
    },
    {
      "cell_type": "markdown",
      "source": [
        "# **Bagging/ Bootstrap Aggregation**"
      ],
      "metadata": {
        "id": "so-JjXyfOBSt"
      }
    },
    {
      "cell_type": "code",
      "source": [
        "# Define the base estimator (in this case, a decision tree)\n",
        "base_estimator = DecisionTreeClassifier()\n",
        "# Define the bagging classifier\n",
        "bagging = BaggingClassifier(base_estimator=base_estimator,\n",
        "                            n_estimators=10,\n",
        "                            max_samples=0.5,\n",
        "                            max_features=0.5)\n",
        "# Train the bagging classifier\n",
        "bagging.fit(X, y)\n",
        "# Make predictions using the bagging classifier\n",
        "predictions = bagging.predict(X)\n",
        "predictions #This will output an array of predicted labels for each data point in the dataset.\n",
        "# To compare the predicted labels with the actual labels, you can also print the y variable that contains\n",
        "# the true labels:"
      ],
      "metadata": {
        "id": "gXd7VIu5OBCP"
      },
      "execution_count": null,
      "outputs": []
    },
    {
      "cell_type": "code",
      "source": [
        "y"
      ],
      "metadata": {
        "id": "v9xxWOr0OJBt"
      },
      "execution_count": null,
      "outputs": []
    },
    {
      "cell_type": "code",
      "source": [
        "# Calculate the accuracy of the bagging classifier\n",
        "accuracy = accuracy_score(y, predictions)\n",
        "\n",
        "# Print the accuracy\n",
        "print(\"Accuracy:\", accuracy)"
      ],
      "metadata": {
        "id": "XNXUDFRPOMDp"
      },
      "execution_count": null,
      "outputs": []
    },
    {
      "cell_type": "markdown",
      "source": [
        "# **Voting / Stacking**"
      ],
      "metadata": {
        "id": "fsy0iqN0OOBz"
      }
    },
    {
      "cell_type": "code",
      "source": [
        "# Combining different kind of models and then applying aggregation.\n",
        "# Define the base models\n",
        "model1 = LogisticRegression()\n",
        "model2 = KNeighborsClassifier()\n",
        "model3 = DecisionTreeClassifier()\n",
        "\n",
        "# Define the stacking classifier\n",
        "stacking = StackingClassifier(estimators=[('lr', model1), ('knn', model2), ('dt', model3)],\n",
        "                              final_estimator=LogisticRegression())\n",
        "\n",
        "# Train the stacking classifier\n",
        "stacking.fit(X_train, y_train)\n",
        "\n",
        "# Make predictions using the stacking classifier\n",
        "predictions = stacking.predict(X_test)\n",
        "\n",
        "# Calculate the accuracy of the stacking classifier\n",
        "accuracy = accuracy_score(y_test, predictions)\n",
        "\n",
        "# Print the accuracy of the stacking classifier\n",
        "print(\"Accuracy:\", accuracy)"
      ],
      "metadata": {
        "id": "2Xk0lEiIOPs8"
      },
      "execution_count": null,
      "outputs": []
    },
    {
      "cell_type": "markdown",
      "source": [
        "# **Boosting**"
      ],
      "metadata": {
        "id": "h5rG_cTYqlDr"
      }
    },
    {
      "cell_type": "code",
      "source": [
        "from sklearn.ensemble import AdaBoostClassifier\n",
        "\n",
        "# create an AdaBoostClassifier object with a DecisionTreeClassifier base estimator\n",
        "ada = AdaBoostClassifier(base_estimator=DecisionTreeClassifier(max_depth=1), n_estimators=100, random_state=42)\n",
        "\n",
        "# train the AdaBoostClassifier on the training set\n",
        "ada.fit(X_train, y_train)\n",
        "\n",
        "# make predictions on the test set\n",
        "y_pred = ada.predict(X_test)\n",
        "\n",
        "# calculate the accuracy of the model\n",
        "accuracy = accuracy_score(y_test, y_pred)\n",
        "print('Accuracy:', accuracy)"
      ],
      "metadata": {
        "id": "qLt7kmVmqtly"
      },
      "execution_count": null,
      "outputs": []
    },
    {
      "cell_type": "markdown",
      "source": [
        "# **Random Forest**"
      ],
      "metadata": {
        "id": "aEzN2WNMrvNt"
      }
    },
    {
      "cell_type": "code",
      "source": [
        "from sklearn.ensemble import RandomForestClassifier\n",
        "\n",
        "# create a Random Forest classifier object\n",
        "rf = RandomForestClassifier(n_estimators=100, max_depth=2, random_state=42)\n",
        "\n",
        "# train the Random Forest classifier on the training set\n",
        "rf.fit(X_train, y_train)\n",
        "\n",
        "# make predictions on the test set\n",
        "y_pred = rf.predict(X_test)\n",
        "\n",
        "# calculate the accuracy of the model\n",
        "accuracy = accuracy_score(y_test, y_pred)\n",
        "print('Accuracy:', accuracy)"
      ],
      "metadata": {
        "id": "YuUVcPV-rymS"
      },
      "execution_count": null,
      "outputs": []
    }
  ]
}