{
  "nbformat": 4,
  "nbformat_minor": 0,
  "metadata": {
    "colab": {
      "provenance": []
    },
    "kernelspec": {
      "name": "python3",
      "display_name": "Python 3"
    },
    "language_info": {
      "name": "python"
    }
  },
  "cells": [
    {
      "cell_type": "markdown",
      "source": [
        "## Dealing With Outliers"
      ],
      "metadata": {
        "id": "1dgQC0ZOfBE7"
      }
    },
    {
      "cell_type": "code",
      "execution_count": null,
      "metadata": {
        "colab": {
          "base_uri": "https://localhost:8080/"
        },
        "id": "yEADWH0b1bEP",
        "outputId": "e53e88c0-9140-431c-acb8-2655ba3083d0"
      },
      "outputs": [
        {
          "output_type": "stream",
          "name": "stdout",
          "text": [
            "Drive already mounted at /content/drive; to attempt to forcibly remount, call drive.mount(\"/content/drive\", force_remount=True).\n"
          ]
        }
      ],
      "source": [
        "from google.colab import drive\n",
        "drive.mount('/content/drive')"
      ]
    },
    {
      "cell_type": "code",
      "source": [
        "import numpy as np\n",
        "import pandas as pd\n",
        "import matplotlib.pyplot as plt\n",
        "import statsmodels.api as sm\n",
        "from sklearn.linear_model import LinearRegression\n",
        "import seaborn as sns\n",
        "sns.set()"
      ],
      "metadata": {
        "id": "qSTqV6t01i3K"
      },
      "execution_count": null,
      "outputs": []
    },
    {
      "cell_type": "code",
      "source": [
        "raw_data=pd.read_csv(\"/content/drive/MyDrive/AI Labs/1.04. Real-life example.csv\")"
      ],
      "metadata": {
        "id": "yFIqT7c43EDd"
      },
      "execution_count": null,
      "outputs": []
    },
    {
      "cell_type": "code",
      "source": [
        "raw_data.head()"
      ],
      "metadata": {
        "id": "E9dT9YuV4GsF"
      },
      "execution_count": null,
      "outputs": []
    },
    {
      "cell_type": "code",
      "source": [],
      "metadata": {
        "id": "g14m3EMQ43vI"
      },
      "execution_count": null,
      "outputs": []
    },
    {
      "cell_type": "markdown",
      "metadata": {
        "id": "t1UQOFJZrYGn"
      },
      "source": [
        "### Exploring the descriptive statisitics of the variable"
      ]
    },
    {
      "cell_type": "code",
      "execution_count": null,
      "metadata": {
        "id": "bB_DIMaarYGo"
      },
      "outputs": [],
      "source": [
        "raw_data.describe(include=\"all\")"
      ]
    },
    {
      "cell_type": "markdown",
      "metadata": {
        "id": "u7YI2BedrYGp"
      },
      "source": [
        "### Determining the variable of interest"
      ]
    },
    {
      "cell_type": "code",
      "execution_count": null,
      "metadata": {
        "id": "mJ2bjvP1rYGq"
      },
      "outputs": [],
      "source": [
        "data=raw_data.drop(['Model'],axis=1)\n",
        "data.describe(include=\"all\")"
      ]
    },
    {
      "cell_type": "markdown",
      "metadata": {
        "id": "EYKBbqQ6rYGr"
      },
      "source": [
        "### Dealing wiith missing Values"
      ]
    },
    {
      "cell_type": "code",
      "execution_count": null,
      "metadata": {
        "id": "e3fBDUYRrYGs"
      },
      "outputs": [],
      "source": [
        "data.isnull().sum()"
      ]
    },
    {
      "cell_type": "code",
      "execution_count": null,
      "metadata": {
        "id": "yP3QgwM_rYGs"
      },
      "outputs": [],
      "source": [
        "data_no_mv=data.dropna(axis=0)"
      ]
    },
    {
      "cell_type": "code",
      "execution_count": null,
      "metadata": {
        "id": "-bfxW2qFrYGt"
      },
      "outputs": [],
      "source": [
        "data_no_mv.describe(include=\"all\")"
      ]
    },
    {
      "cell_type": "markdown",
      "metadata": {
        "id": "OutrWmcMrYGt"
      },
      "source": [
        "### Exploring the PDFs"
      ]
    },
    {
      "cell_type": "code",
      "execution_count": null,
      "metadata": {
        "id": "gNq26ClCrYGu"
      },
      "outputs": [],
      "source": [
        "sns.distplot(data_no_mv['Price'])"
      ]
    },
    {
      "cell_type": "markdown",
      "metadata": {
        "id": "Fj_j0pmVrYGu"
      },
      "source": [
        "### Dealing with outliers"
      ]
    },
    {
      "cell_type": "code",
      "execution_count": null,
      "metadata": {
        "id": "RZhjxMytrYGu"
      },
      "outputs": [],
      "source": [
        "q=data_no_mv['Price'].quantile(0.99)\n",
        "data_1=data_no_mv[data_no_mv['Price']<q]\n",
        "data_1.describe(include=\"all\")"
      ]
    },
    {
      "cell_type": "code",
      "execution_count": null,
      "metadata": {
        "id": "b_0OwZYarYGv"
      },
      "outputs": [],
      "source": [
        "sns.distplot(data_1['Price'])"
      ]
    },
    {
      "cell_type": "code",
      "execution_count": null,
      "metadata": {
        "id": "ZsQ3I128rYGv"
      },
      "outputs": [],
      "source": [
        "sns.distplot(data_1['Mileage'])"
      ]
    },
    {
      "cell_type": "code",
      "execution_count": null,
      "metadata": {
        "id": "kn92BatwrYGw"
      },
      "outputs": [],
      "source": [
        "q=data_1['Mileage'].quantile(0.99)\n",
        "data_2=data_1[data_1['Mileage']<q]\n",
        "data_2.describe(include=\"all\")"
      ]
    },
    {
      "cell_type": "code",
      "execution_count": null,
      "metadata": {
        "id": "CPvqpIj9rYGw"
      },
      "outputs": [],
      "source": [
        "sns.distplot(data_2['Mileage'])"
      ]
    },
    {
      "cell_type": "code",
      "execution_count": null,
      "metadata": {
        "id": "CrIT9VmGrYGx"
      },
      "outputs": [],
      "source": [
        "sns.distplot(data_2['EngineV'])"
      ]
    },
    {
      "cell_type": "code",
      "execution_count": null,
      "metadata": {
        "id": "YcvYUSKhrYGx"
      },
      "outputs": [],
      "source": [
        "data_3=data_2[data_2['EngineV']<6.5]"
      ]
    },
    {
      "cell_type": "code",
      "execution_count": null,
      "metadata": {
        "id": "8AzUfCMErYGy"
      },
      "outputs": [],
      "source": [
        "sns.distplot(data_3['EngineV'])"
      ]
    },
    {
      "cell_type": "code",
      "execution_count": null,
      "metadata": {
        "id": "ofCd0uU2rYGy"
      },
      "outputs": [],
      "source": [
        "sns.distplot(data_3['Year'])"
      ]
    },
    {
      "cell_type": "code",
      "execution_count": null,
      "metadata": {
        "id": "0skjgFJCrYGy"
      },
      "outputs": [],
      "source": [
        "q=data_3['Year'].quantile(0.01)\n",
        "data_4=data_3[data_3['Year']>q]"
      ]
    },
    {
      "cell_type": "code",
      "execution_count": null,
      "metadata": {
        "id": "cP5GeCLWrYGz"
      },
      "outputs": [],
      "source": [
        "sns.distplot(data_4['Year'])"
      ]
    },
    {
      "cell_type": "code",
      "execution_count": null,
      "metadata": {
        "id": "6Jq_qQzfrYGz"
      },
      "outputs": [],
      "source": [
        "data_cleaned= data_4.reset_index(drop=True)"
      ]
    },
    {
      "cell_type": "code",
      "execution_count": null,
      "metadata": {
        "id": "aLGhpUaPrYGz"
      },
      "outputs": [],
      "source": [
        "data_cleaned.describe(include=\"all\")"
      ]
    }
  ]
}